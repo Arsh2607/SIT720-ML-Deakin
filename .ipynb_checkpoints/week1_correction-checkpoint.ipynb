{
 "cells": [
  {
   "attachments": {},
   "cell_type": "markdown",
   "metadata": {},
   "source": [
    "* The first correction I want to make for students in the 2pm-4pm workshop is that **the formulation of the Transaction example is indeed a supervised case (kinda self-supervised) where both the feature and the supervised variable are the same time series**.\n",
    "* The following content will explain the question: Why the integer x is changed and the list x does not? But a deeper understanding requires knowledge of pointer in C programming, which underlies the implementation of Python data types. [This link](https://realpython.com/pointers-in-python/#immutable-vs-mutable-objects) provides a good starting point."
   ]
  },
  {
   "attachments": {},
   "cell_type": "markdown",
   "metadata": {},
   "source": [
    "## Why does the integer x not change? \n",
    "* The first `x` is defined in what we call **global scope**.\n",
    "* All the objects created in the function will be stored in **a local scope**. Hence, the first `x` in `x= x+3` is a newly created object in the local scope.\n",
    "* Note that the second `x` in `x= x+3` is the `x` in the global scope.\n",
    "* We can verify the above assumption by looing at their memory addresses. The addresses are different.\n"
   ]
  },
  {
   "cell_type": "code",
   "execution_count": 16,
   "metadata": {},
   "outputs": [
    {
     "name": "stdout",
     "output_type": "stream",
     "text": [
      "The memory address of x: 139839146426672\n",
      "The memory address of x passed into the function: 139839146426672\n",
      "The memory address of the newly created x in the function: 139839146426768\n",
      "3\n"
     ]
    }
   ],
   "source": [
    "x = 3 # define x in the global scope\n",
    "print(\"The memory address of x:\", id(x))\n",
    "def add3(x):\n",
    "    print(\"The memory address of x passed into the function:\", id(x))\n",
    "    x = x + 3 # a new memory adress will be assigned to x in the function scope\n",
    "    print(\"The memory address of the newly created x in the function:\", id(x))\n",
    "add3(x)\n",
    "print(x)\n"
   ]
  },
  {
   "attachments": {},
   "cell_type": "markdown",
   "metadata": {},
   "source": [
    "* If we do not want to create a new object x in the function, and always want to access x in the global scope,  use the `global` keyword\n",
    "* Note that since x is immutable data type (integer), the memory address is still changed. I have an explanation of mutable and immutable data types. See the section below for mutable and immutable data types"
   ]
  },
  {
   "cell_type": "code",
   "execution_count": 13,
   "metadata": {},
   "outputs": [
    {
     "name": "stdout",
     "output_type": "stream",
     "text": [
      "139839146426672\n",
      "139839146426768\n",
      "6\n"
     ]
    }
   ],
   "source": [
    "\n",
    "x = 3 # define x in the global scope\n",
    "print(id(x))\n",
    "def add3():\n",
    "    global x # define x with the x in the global scope\n",
    "    x= x + 3 # all the x here refer to the one in the global scope now\n",
    "    print(id(x))\n",
    "add3()\n",
    "print(x)"
   ]
  },
  {
   "attachments": {},
   "cell_type": "markdown",
   "metadata": {},
   "source": [
    "## Why does the list x change? \n",
    "* When you call `x[0] = x[0] + 3`, you do not define a new object called `x`. Instead, you refer to the same `x` in the global scope."
   ]
  },
  {
   "cell_type": "code",
   "execution_count": 15,
   "metadata": {},
   "outputs": [
    {
     "name": "stdout",
     "output_type": "stream",
     "text": [
      "The memory address of x: 139839144184192\n",
      "The memory address of x in the function: 139839144184192\n",
      "[6]\n"
     ]
    }
   ],
   "source": [
    "x = [3] # define x in the global scope\n",
    "print(\"The memory address of x:\", id(x))\n",
    "def add3(x):\n",
    "    x[0] = x[0] + 3 # Here, we assign the new value into the same memory address as x in the global scope\n",
    "    print(\"The memory address of x in the function:\", id(x))\n",
    "add3(x)\n",
    "print(x)"
   ]
  },
  {
   "cell_type": "code",
   "execution_count": 4,
   "metadata": {},
   "outputs": [
    {
     "name": "stdout",
     "output_type": "stream",
     "text": [
      "The memory address of x: 139839104859904\n",
      "The memory address of x in the function: 139839104859904\n",
      "[6]\n"
     ]
    }
   ],
   "source": [
    "# You have to know the underlying implementation of these data types to understand their behaviours with pointer\n",
    "# For immutable data types, the memory address of x in the function and x in the global scope is the same\n",
    "x = [3] # define x in the global scope\n",
    "print(\"The memory address of x:\", id(x))\n",
    "def add3(x):\n",
    "    x[0] = x[0] + 3\n",
    "    print(\"The memory address of x in the function:\", id(x))\n",
    "add3(x)\n",
    "print(x)\n"
   ]
  },
  {
   "attachments": {},
   "cell_type": "markdown",
   "metadata": {},
   "source": [
    "## Mutable vs Immutable"
   ]
  },
  {
   "attachments": {},
   "cell_type": "markdown",
   "metadata": {},
   "source": [
    "Immutable data types (including integer, floats, strings, Booleans, and tuples) will have the different memory address once you change the value.\n"
   ]
  },
  {
   "cell_type": "code",
   "execution_count": 10,
   "metadata": {},
   "outputs": [
    {
     "name": "stdout",
     "output_type": "stream",
     "text": [
      "139839146426672\n",
      "139839146426768\n",
      "6\n"
     ]
    }
   ],
   "source": [
    "## For integer, once you assign another value, the memory address of x will change\n",
    "x = 3 \n",
    "print(id(x))\n",
    "x = x + 3\n",
    "print(id(x))\n",
    "print(x)\n"
   ]
  },
  {
   "cell_type": "code",
   "execution_count": 26,
   "metadata": {},
   "outputs": [
    {
     "ename": "TypeError",
     "evalue": "'tuple' object does not support item assignment",
     "output_type": "error",
     "traceback": [
      "\u001b[0;31m---------------------------------------------------------------------------\u001b[0m",
      "\u001b[0;31mTypeError\u001b[0m                                 Traceback (most recent call last)",
      "Cell \u001b[0;32mIn[26], line 3\u001b[0m\n\u001b[1;32m      1\u001b[0m \u001b[39m## For tuple,  you cannot change values in the tuple\u001b[39;00m\n\u001b[1;32m      2\u001b[0m x \u001b[39m=\u001b[39m (\u001b[39m1\u001b[39m, \u001b[39m2\u001b[39m, \u001b[39m3\u001b[39m)\n\u001b[0;32m----> 3\u001b[0m x[\u001b[39m0\u001b[39;49m] \u001b[39m=\u001b[39m \u001b[39m2\u001b[39m\n",
      "\u001b[0;31mTypeError\u001b[0m: 'tuple' object does not support item assignment"
     ]
    }
   ],
   "source": [
    "## ERROR!!! For tuple,  you cannot change values in the tuple\n",
    "x = (1, 2, 3)\n",
    "x[0] = 2"
   ]
  },
  {
   "attachments": {},
   "cell_type": "markdown",
   "metadata": {},
   "source": [
    "Mutable data types (including list, dictionary and set) will have the same memory address once you change the value.\n"
   ]
  },
  {
   "cell_type": "code",
   "execution_count": 9,
   "metadata": {},
   "outputs": [
    {
     "name": "stdout",
     "output_type": "stream",
     "text": [
      "The original address:  139839099306304\n",
      "The address aftering changing a value:  139839099306304\n",
      "{'x': 2, 'y': 2, 'z': 3}\n"
     ]
    }
   ],
   "source": [
    "d = {'x': 1, \"y\": 2, \"z\": 3}\n",
    "print(\"The original address: \", id(d))\n",
    "d['x'] = 2\n",
    "print(\"The address aftering changing a value: \", id(d))\n",
    "print(d)"
   ]
  },
  {
   "cell_type": "code",
   "execution_count": null,
   "metadata": {},
   "outputs": [],
   "source": []
  }
 ],
 "metadata": {
  "kernelspec": {
   "display_name": "sit720",
   "language": "python",
   "name": "python3"
  },
  "language_info": {
   "codemirror_mode": {
    "name": "ipython",
    "version": 3
   },
   "file_extension": ".py",
   "mimetype": "text/x-python",
   "name": "python",
   "nbconvert_exporter": "python",
   "pygments_lexer": "ipython3",
   "version": "3.10.9"
  },
  "orig_nbformat": 4
 },
 "nbformat": 4,
 "nbformat_minor": 2
}
