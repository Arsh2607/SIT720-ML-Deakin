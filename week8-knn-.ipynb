{
 "cells": [
  {
   "attachments": {},
   "cell_type": "markdown",
   "metadata": {},
   "source": [
    "**General Idea:**    \n",
    "It simply classifies objects based on **feature similarity**: Find k individuals in our data “most similar” to the new individual in terms of predictor values;  \n",
    "\n",
    "For classification, use voting.  \n",
    "For regression, use averaging or weighted averaging of target values of these k individuals to predict target for our new individual.  \n",
    "\n",
    "**Inference Algorithms**  \n",
    "Given an unclassified data,\n",
    "1.  **Measure** the distance (Euclidian, Manhattan, Minkowski or Weighted) from the new data to all others data that is already classified: \n",
    "     + Sort individuals from smallest $d_i$ to largest, where $d_i$ be the distance of our new individual from the $i$-th individual in our training data\n",
    "     + If we denote the targets in the sorted list by y(1); : : : ; y(n), then y(1) is observed target for closest individua while y(n) is observed target for furthest individual\n",
    "2. Use the k individuals with smallest $d_i$ to predict the label, i.e., $\\hat{y}$ = f(y(1),...,y(k))\n",
    "     + **Gets** the K(K is a parameter that you define) smaller distances;\n",
    "     + Check the list of classes had the shortest distance and **count** the amount of each class that appears;\n",
    "     + **Takes** as correct class with the class that appeared the most times;\n",
    "\n",
    "\n",
    "\n"
   ]
  },
  {
   "attachments": {},
   "cell_type": "markdown",
   "metadata": {},
   "source": [
    "**Advantages**  \n",
    "* simple to understand and easy to implement.\n",
    "* Zero to little training time.(k-NNs does not produce a model)\n",
    "* Works easily with multiclass data sets.\n",
    "* Has good predictive power.\n",
    "* Does well in practice.\n",
    "<!--  -->\n",
    "* Very weak assumptions about data\n",
    "* Efficient learning in high dimensions\n",
    "* Easily handle continuous and categorical variables\n",
    "* Instance-based intepretation\n",
    "\n",
    "**Disadvantages**  \n",
    "* Computationally expensive testing phase.\n",
    "* Can have skewed class distributions (If a particular class is very frequent during the training phase, it will tend to prevail the majority voting of the new example).\n",
    "* **Curse of dimensionality**: The accuracy can be decreased when it comes to high-dimension data. The reason is that there is a little difference between the nearest and farthest neighbor.\n",
    "<!--  -->\n",
    "* Lots of parameters to tune\n",
    "    * neighborhood size(How many neighbours ( $k$ ) to use?)\n",
    "    * Distance function(How to measure \"nearest\"?)\n",
    "    * Kernel weighting function(How to average or weight the neighbours)  \n",
    "    $\\hat{y}^{\\prime}=\\frac{1}{k} \\sum_{i=1}^{k} g\\left(y^{(i)}\\right)$ where $g(d)$ is a function that gets smaller as $d$ gets larger\n",
    "    * Should all predictors be treated the same?\n",
    "* Predictor selection is not straightforward\n",
    "* No general intepretation\n",
    "\n"
   ]
  },
  {
   "cell_type": "markdown",
   "metadata": {},
   "source": [
    "**How to choose k?**  \n",
    "The training error rate and the validation error rate are two parameters to access on different K-value.\n",
    "\n",
    "**How to choose parameters?**  \n",
    "Use leave-one-out cross-validation\n",
    "For each combination of parameter choices:\n",
    "1. Predict each example $y_{i}$ using $k-\\mathrm{NN}$\n",
    "2. Accumulate error in predicting $y_{i}$  \n",
    "\n",
    "Choose the parameters that minimise this score"
   ]
  },
  {
   "cell_type": "code",
   "execution_count": 2,
   "metadata": {},
   "outputs": [],
   "source": [
    "from sklearn.neighbors import KNeighborsClassifier\n",
    "from sklearn.model_selection import train_test_split\n",
    "from sklearn import datasets\n",
    "import matplotlib.pyplot as plt\n",
    "import numpy as np"
   ]
  },
  {
   "attachments": {},
   "cell_type": "markdown",
   "metadata": {},
   "source": [
    "Load some digit data."
   ]
  },
  {
   "cell_type": "code",
   "execution_count": 3,
   "metadata": {},
   "outputs": [
    {
     "name": "stdout",
     "output_type": "stream",
     "text": [
      "dict_keys(['data', 'target', 'frame', 'feature_names', 'target_names', 'images', 'DESCR'])\n",
      ".. _digits_dataset:\n",
      "\n",
      "Optical recognition of handwritten digits dataset\n",
      "--------------------------------------------------\n",
      "\n",
      "**Data Set Characteristics:**\n",
      "\n",
      "    :Number of Instances: 1797\n",
      "    :Number of Attributes: 64\n",
      "    :Attribute Information: 8x8 image of integer pixels in the range 0..16.\n",
      "    :Missing Attribute Values: None\n",
      "    :Creator: E. Alpaydin (alpaydin '@' boun.edu.tr)\n",
      "    :Date: July; 1998\n",
      "\n",
      "This is a copy of the test set of the UCI ML hand-written digits datasets\n",
      "https://archive.ics.uci.edu/ml/datasets/Optical+Recognition+of+Handwritten+Digits\n",
      "\n",
      "The data set contains images of hand-written digits: 10 classes where\n",
      "each class refers to a digit.\n",
      "\n",
      "Preprocessing programs made available by NIST were used to extract\n",
      "normalized bitmaps of handwritten digits from a preprinted form. From a\n",
      "total of 43 people, 30 contributed to the training set and different 13\n",
      "to the test set. 32x32 bitmaps are divided into nonoverlapping blocks of\n",
      "4x4 and the number of on pixels are counted in each block. This generates\n",
      "an input matrix of 8x8 where each element is an integer in the range\n",
      "0..16. This reduces dimensionality and gives invariance to small\n",
      "distortions.\n",
      "\n",
      "For info on NIST preprocessing routines, see M. D. Garris, J. L. Blue, G.\n",
      "T. Candela, D. L. Dimmick, J. Geist, P. J. Grother, S. A. Janet, and C.\n",
      "L. Wilson, NIST Form-Based Handprint Recognition System, NISTIR 5469,\n",
      "1994.\n",
      "\n",
      ".. topic:: References\n",
      "\n",
      "  - C. Kaynak (1995) Methods of Combining Multiple Classifiers and Their\n",
      "    Applications to Handwritten Digit Recognition, MSc Thesis, Institute of\n",
      "    Graduate Studies in Science and Engineering, Bogazici University.\n",
      "  - E. Alpaydin, C. Kaynak (1998) Cascading Classifiers, Kybernetika.\n",
      "  - Ken Tang and Ponnuthurai N. Suganthan and Xi Yao and A. Kai Qin.\n",
      "    Linear dimensionalityreduction using relevance weighted LDA. School of\n",
      "    Electrical and Electronic Engineering Nanyang Technological University.\n",
      "    2005.\n",
      "  - Claudio Gentile. A New Approximate Maximal Margin Classification\n",
      "    Algorithm. NIPS. 2000.\n",
      "\n"
     ]
    },
    {
     "data": {
      "image/png": "[encoded data removed]",
      "text/plain": [
       "<Figure size 640x480 with 1 Axes>"
      ]
     },
     "metadata": {},
     "output_type": "display_data"
    }
   ],
   "source": [
    "# Load the digits dataset: digits\n",
    "digits = datasets.load_digits()\n",
    "print(digits.keys())\n",
    "print(digits.DESCR)\n",
    "\n",
    "plt.imshow(digits.images[1010], cmap=plt.cm.gray_r, interpolation='nearest')\n",
    "plt.show()"
   ]
  },
  {
   "cell_type": "code",
   "execution_count": 5,
   "metadata": {},
   "outputs": [
    {
     "name": "stdout",
     "output_type": "stream",
     "text": [
      "Test set prediction:\n",
      " [1 0 1 5 4 1 4 9 2 9 2 0 8 7 6 0 6 1 6 8 1 2 0 7 3 2 9 7 2 0 2 1 4 2 6 0 7\n",
      " 3 4 9 8 6 5 5 6 8 7 5 7 9 3 4 5 0 8 8 8 0 9 9 8 9 5 1 4 6 9 1 4 1 1 6 4 5\n",
      " 6 3 5 6 9 3 5 7 6 9 3 3 9 5 0 3 3 7 7 7 5 5 9 4 9 5 1 4 2 7 1 7 7 5 2 2 1\n",
      " 0 1 6 0 3 1 0 8 9 5 4 1 6 6 2 6 0 4 5 0 6 9 2 0 0 9 0 2 1 3 7 3 8 2 4 1 8\n",
      " 9 1 6 8 2 1 7 1 7 9 7 7 7 7 3 7 4 2 0 2 4 8 6 0 8 4 5 9 6 3 6 0 8 9 7 5 0\n",
      " 0 4 4 0 5 1 7 3 8 1 0 5 0 4 5 8 3 5 4 1 7 9 5 7 9 9 0 2 6 2 3 2 1 8 7 6 7\n",
      " 3 0 6 7 9 3 4 8 7 1 2 5 9 9 3 5 7 3 3 4 9 1 4 3 6 6 1 1 3 6 9 2 2 4 8 5 5\n",
      " 3 8 1 4 5 6 6 0 3 0 3 5 1 7 8 9 4 5 7 0 1 4 8 0 9 9 2 3 2 4 3 4 4 1 7 4 5\n",
      " 0 4 1 3 4 5 4 4 5 1 3 2 7 2 5 7 6 4 4 7 8 7 5 2 0 3 3 4 4 2 8 9 8 7 4 4 1\n",
      " 7 9 2 0 3 1 4 5 8 5 6 5 3 9 1 0 0 1 3 6 0 2 5 5 0 6 7 5 3 6 9 1 7 8 0 3 9\n",
      " 6 7 6 1 8 6 4 8 4 3 7 6 7 5 8 0 4 3 2 2 8 5 7 8 1 0 3 2 1 1 3 3 4 6 0 3 8\n",
      " 1 6 6 6 8 8 7 5 2 2 6 8 6 9 4 5 7 4 0 2 3 3 5 6 8 2 1 8 1 0 7 2 1 5 8 9 0\n",
      " 4 3 3 8 1 1 3 9 5 5 9 6 9 2 9 6 0 8 2 1 7 8 0 2 7 9 6 6 0 7 0 1 2 9 0 6 3\n",
      " 6 6 7 0 2 9 3 5 5 2 7 8 2 5 1 2 2 2 5 1 0 1 2 1 2 8 3 6 4 4 1 9 9 9 1 0 9\n",
      " 3 3 1 1 2 2 3 8 1 1 6 3 7 0 7 9 4 6 6 7 5 8]\n"
     ]
    },
    {
     "data": {
      "text/plain": [
       "0.975925925925926"
      ]
     },
     "execution_count": 5,
     "metadata": {},
     "output_type": "execute_result"
    }
   ],
   "source": [
    "# Create feature and target arrays\n",
    "X = digits.data\n",
    "y = digits.target\n",
    "X_train, X_test, y_train, y_test = train_test_split(X, y, test_size=0.3, random_state=21, stratify=y)\n",
    "\n",
    "# Create a k-NN classifier with 6 neighbors: knn\n",
    "knn = KNeighborsClassifier(n_neighbors=6)\n",
    "knn.fit(X_train, y_train)\n",
    "y_pred = knn.predict(X_test)\n",
    "print(\"Test set prediction:\\n {}\".format(y_pred))\n",
    "\n",
    "# check the accuracy of our model\n",
    "knn.score(X_test, y_test)"
   ]
  },
  {
   "cell_type": "markdown",
   "metadata": {},
   "source": [
    "## Plot model complexity curves\n",
    "Model complexity:  \n",
    "Larger k = smoother decision boundary = less complex model  \n",
    "Overfitting: complex models run the risk of being sensitive to noise in the specific data rather than reflecting the genral trend in the data  \n",
    "Underfitting  \n",
    "Sweet spot"
   ]
  },
  {
   "cell_type": "code",
   "execution_count": 28,
   "metadata": {},
   "outputs": [
    {
     "data": {
      "image/png": "[encoded data removed]",
      "text/plain": [
       "<Figure size 432x288 with 1 Axes>"
      ]
     },
     "metadata": {
      "needs_background": "light"
     },
     "output_type": "display_data"
    }
   ],
   "source": [
    "# Setup arrays to store train and test accuracies\n",
    "neighbors = np.arange(1, 9)\n",
    "train_accuracy = np.empty(len(neighbors))\n",
    "test_accuracy = np.empty(len(neighbors))\n",
    "\n",
    "# Loop over different values of k\n",
    "for i, k in enumerate(neighbors):\n",
    "    # Setup a k-NN Classifier with k neighbors: knn\n",
    "    knn = KNeighborsClassifier(n_neighbors=k)\n",
    "\n",
    "    # Fit the classifier to the training data\n",
    "    knn.fit(X_train, y_train)\n",
    "    \n",
    "    #Compute accuracy on the training set\n",
    "    train_accuracy[i] = knn.score(X_train, y_train)\n",
    "\n",
    "    #Compute accuracy on the testing set\n",
    "    test_accuracy[i] = knn.score(X_test, y_test)\n",
    "\n",
    "# Generate plot\n",
    "plt.title('k-NN: Varying Number of Neighbors')\n",
    "plt.plot(neighbors, test_accuracy, label = 'Testing Accuracy')\n",
    "plt.plot(neighbors, train_accuracy, label = 'Training Accuracy')\n",
    "plt.legend()\n",
    "plt.xlabel('Number of Neighbors')\n",
    "plt.ylabel('Accuracy')\n",
    "plt.show()"
   ]
  }
 ],
 "metadata": {
  "kernelspec": {
   "display_name": "sit720",
   "language": "python",
   "name": "python3"
  },
  "language_info": {
   "codemirror_mode": {
    "name": "ipython",
    "version": 3
   },
   "file_extension": ".py",
   "mimetype": "text/x-python",
   "name": "python",
   "nbconvert_exporter": "python",
   "pygments_lexer": "ipython3",
   "version": "3.10.9"
  },
  "vscode": {
   "interpreter": {
    "hash": "851ded061afa4765036d03839fe2a12ede05ff2126402e9849c3c80d33b9fb35"
   }
  }
 },
 "nbformat": 4,
 "nbformat_minor": 2
}
