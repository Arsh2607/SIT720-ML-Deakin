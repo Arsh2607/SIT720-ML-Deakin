{
 "cells": [
  {
   "cell_type": "code",
   "execution_count": 3,
   "metadata": {},
   "outputs": [],
   "source": [
    "import numpy as np\n",
    "from packageA.resource import pr"
   ]
  },
  {
   "attachments": {},
   "cell_type": "markdown",
   "metadata": {},
   "source": [
    "## Python Module and Package"
   ]
  },
  {
   "cell_type": "code",
   "execution_count": 5,
   "metadata": {},
   "outputs": [
    {
     "name": "stdout",
     "output_type": "stream",
     "text": [
      "hi\n"
     ]
    }
   ],
   "source": [
    "# import functions from a module\n",
    "\n",
    "# import functions from a package\n"
   ]
  },
  {
   "attachments": {},
   "cell_type": "markdown",
   "metadata": {},
   "source": [
    "## Vector/matrix operations"
   ]
  },
  {
   "cell_type": "code",
   "execution_count": 13,
   "metadata": {},
   "outputs": [
    {
     "name": "stdout",
     "output_type": "stream",
     "text": [
      "[1 2 3 4]\n",
      "(4,)\n",
      "[1 2 3 4]\n",
      "30\n"
     ]
    }
   ],
   "source": [
    "# define a vector\n",
    "x = np.array([1, 2, 3, 4])\n",
    "print(x)\n",
    "print(x.shape)\n",
    "\n",
    "# transpose x\n",
    "print(x.T)\n",
    "\n",
    "# dot product\n",
    "print(x.dot(x.T))"
   ]
  },
  {
   "cell_type": "code",
   "execution_count": 16,
   "metadata": {},
   "outputs": [
    {
     "name": "stdout",
     "output_type": "stream",
     "text": [
      "[[1]\n",
      " [2]\n",
      " [3]\n",
      " [4]]\n",
      "(4, 1)\n",
      "[[1 2 3 4]]\n",
      "[[ 1  2  3  4]\n",
      " [ 2  4  6  8]\n",
      " [ 3  6  9 12]\n",
      " [ 4  8 12 16]]\n"
     ]
    }
   ],
   "source": [
    "# how about the following code?\n",
    "x.shape = [4, 1] # force it to be a column vector\n",
    "print(x)\n",
    "print(x.shape)\n",
    "print(x.T)\n",
    "print(x.dot(x.T))"
   ]
  },
  {
   "cell_type": "code",
   "execution_count": 3,
   "metadata": {},
   "outputs": [
    {
     "name": "stdout",
     "output_type": "stream",
     "text": [
      "(4, 3)\n",
      "(3, 2)\n",
      "[[ 0.11960342  1.25453601]\n",
      " [-0.84462071  0.47862569]\n",
      " [ 1.50776488 -1.06569701]\n",
      " [-1.90085327  2.75265387]]\n",
      "=======\n",
      "[[ 0.11960342  1.25453601]\n",
      " [-0.84462071  0.47862569]\n",
      " [ 1.50776488 -1.06569701]\n",
      " [-1.90085327  2.75265387]]\n"
     ]
    }
   ],
   "source": [
    "# matrix multiplication\n",
    "A = np.random.randn(4,3)\n",
    "C = np.random.randn(3,2)\n",
    "print(np.shape(A))\n",
    "print(np.shape(C))\n",
    "\n",
    "print(A.dot(C))\n",
    "print('=======')\n",
    "print(np.dot(A,C))\n"
   ]
  },
  {
   "cell_type": "code",
   "execution_count": 4,
   "metadata": {},
   "outputs": [
    {
     "data": {
      "text/plain": [
       "array([[1., 0.],\n",
       "       [0., 1.]])"
      ]
     },
     "execution_count": 4,
     "metadata": {},
     "output_type": "execute_result"
    }
   ],
   "source": [
    "# conformability\n"
   ]
  },
  {
   "attachments": {},
   "cell_type": "markdown",
   "metadata": {},
   "source": [
    "## Pass Activity"
   ]
  },
  {
   "attachments": {},
   "cell_type": "markdown",
   "metadata": {},
   "source": [
    "Define a string with a value equal to “Python is fun!”. Print every third character of this string.\n",
    "\n",
    "Create three list variables named 'StudentName', 'ID', and 'EmailAddress'. Add 5 random values in these lists and print them.\n",
    "\n",
    "Create a dictionary variable with three keys, which are named same as the list created in the previous problem. Insert the previously created lists in the dictionary variable and print it.\n"
   ]
  }
 ],
 "metadata": {
  "kernelspec": {
   "display_name": "base",
   "language": "python",
   "name": "python3"
  },
  "language_info": {
   "codemirror_mode": {
    "name": "ipython",
    "version": 3
   },
   "file_extension": ".py",
   "mimetype": "text/x-python",
   "name": "python",
   "nbconvert_exporter": "python",
   "pygments_lexer": "ipython3",
   "version": "3.10.9"
  },
  "orig_nbformat": 4,
  "vscode": {
   "interpreter": {
    "hash": "43cae3e9bfb3f5b17a32986a8d7b9d2dfbcb889988692924b547bacfc7e713ac"
   }
  }
 },
 "nbformat": 4,
 "nbformat_minor": 2
}
