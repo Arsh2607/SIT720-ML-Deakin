{
  "cells": [
    {
      "cell_type": "markdown",
      "metadata": {
        "id": "bcHa9PG1VhgT"
      },
      "source": [
        "## Python Module and Package"
      ]
    },
    {
      "cell_type": "code",
      "execution_count": null,
      "metadata": {
        "id": "eLosarONVhgV",
        "outputId": "3fa8eb76-071e-481b-bd97-85f58ef4caa0"
      },
      "outputs": [
        {
          "name": "stdout",
          "output_type": "stream",
          "text": [
            "hi\n"
          ]
        }
      ],
      "source": [
        "\n",
        "from packageA.resource import pr\n",
        "# import functions from a module\n",
        "\n",
        "# import functions from a package\n",
        "\n"
      ]
    },
    {
      "cell_type": "markdown",
      "metadata": {
        "id": "C2HrxcFCsE_N"
      },
      "source": [
        "## Function, Data types, Control Flow"
      ]
    },
    {
      "cell_type": "code",
      "execution_count": 90,
      "metadata": {
        "colab": {
          "base_uri": "https://localhost:8080/"
        },
        "id": "0Fi1fLst-xtV",
        "outputId": "88d6f3a1-0e3a-4821-f6c2-11b66f8cca17"
      },
      "outputs": [
        {
          "data": {
            "text/plain": [
              "[5]"
            ]
          },
          "execution_count": 90,
          "metadata": {},
          "output_type": "execute_result"
        }
      ],
      "source": [
        "# function\n",
        "x = [3]\n",
        "def add2(x):\n",
        "  x[0] = x[0] +2\n",
        "\n",
        "add2(x)\n",
        "x"
      ]
    },
    {
      "cell_type": "code",
      "execution_count": 100,
      "metadata": {
        "colab": {
          "base_uri": "https://localhost:8080/"
        },
        "id": "gYrnv_JZsC9_",
        "outputId": "13092cfa-37c4-4e17-8735-1635cc933eee"
      },
      "outputs": [
        {
          "name": "stdout",
          "output_type": "stream",
          "text": [
            "0\n",
            "2\n",
            "4\n",
            "4\n"
          ]
        }
      ],
      "source": [
        "# conditional control flow\n",
        "xx = 0\n",
        "if False:\n",
        "  xx = 3 \n",
        "\n",
        "y = 4\n",
        "print(xx,)\n",
        "\n",
        "xxx = 0\n",
        "\n",
        "i = 1\n",
        "while  True:\n",
        "  xxx = xxx + 2\n",
        "  print(xxx)\n",
        "  if i==2:   \n",
        "    break\n",
        "  i = i+1\n",
        "\n",
        "xxx = 0\n",
        "for i in [0, 1]:\n",
        "  xxx = xxx +2\n",
        "print(xxx)\n",
        "# if \n",
        "# else\n",
        "\n",
        "# Iterative Control flow\n",
        "# while\n",
        "\n",
        "# for\n"
      ]
    },
    {
      "cell_type": "markdown",
      "metadata": {
        "id": "eM-B_L05VhgW"
      },
      "source": [
        "## Vector/matrix operations"
      ]
    },
    {
      "cell_type": "code",
      "execution_count": 64,
      "metadata": {
        "id": "EUgZ550_bMXX"
      },
      "outputs": [],
      "source": [
        "import numpy as np"
      ]
    },
    {
      "cell_type": "code",
      "execution_count": 74,
      "metadata": {
        "colab": {
          "base_uri": "https://localhost:8080/"
        },
        "id": "n5wwZtTMVhgX",
        "outputId": "d6231edc-983a-4a76-ea52-72fa05c5807f"
      },
      "outputs": [
        {
          "data": {
            "text/plain": [
              "array([ True,  True,  True,  True])"
            ]
          },
          "execution_count": 74,
          "metadata": {},
          "output_type": "execute_result"
        }
      ],
      "source": [
        "# define a vector\n",
        "x = np.array([1, 2, 3, 4])\n",
        "# print(x)\n",
        "# print(x.shape)\n",
        "\n",
        "# x.T\n",
        "# x.transpose()\n",
        "# transpose x\n",
        "# print(x.T)\n",
        "\n",
        "x == x.T"
      ]
    },
    {
      "cell_type": "code",
      "execution_count": 77,
      "metadata": {
        "colab": {
          "base_uri": "https://localhost:8080/"
        },
        "id": "zULKhPX9ci43",
        "outputId": "28fa3e6a-eb33-44ff-aafe-89dcc161b22e"
      },
      "outputs": [
        {
          "name": "stdout",
          "output_type": "stream",
          "text": [
            "[[1]\n",
            " [2]\n",
            " [3]\n",
            " [4]]\n"
          ]
        },
        {
          "data": {
            "text/plain": [
              "(4, 1)"
            ]
          },
          "execution_count": 77,
          "metadata": {},
          "output_type": "execute_result"
        }
      ],
      "source": [
        "# make vector to matrix\n",
        "x.shape=(4, 1)\n",
        "print(x)\n",
        "x.shape"
      ]
    },
    {
      "cell_type": "code",
      "execution_count": 70,
      "metadata": {
        "colab": {
          "base_uri": "https://localhost:8080/"
        },
        "id": "CmUqerJF5Ipz",
        "outputId": "9bdf67d3-982d-4acb-f728-17c1cf4b8613"
      },
      "outputs": [
        {
          "data": {
            "text/plain": [
              "(2, 4)"
            ]
          },
          "execution_count": 70,
          "metadata": {},
          "output_type": "execute_result"
        }
      ],
      "source": [
        "# define a matrix\n",
        "x = np.array([[1, 2, 3, 4],\n",
        "              [1, 2, 3, 4]])\n",
        "x.shape"
      ]
    },
    {
      "cell_type": "code",
      "execution_count": 79,
      "metadata": {
        "colab": {
          "base_uri": "https://localhost:8080/"
        },
        "id": "yyJNVuT9VhgX",
        "outputId": "a292b559-6fc4-49d8-b54e-6e278e9a64a0"
      },
      "outputs": [
        {
          "name": "stdout",
          "output_type": "stream",
          "text": [
            "30\n"
          ]
        }
      ],
      "source": [
        "# how about the following code?\n",
        "x = np.array([1, 2, 3, 4])\n",
        "\n",
        "# element-wise multipication:\n",
        "# [1,2,3,4]\n",
        "# [1,2,3,4]\n",
        "1*1 + 2*2 + 3*3+4*4\n",
        "print(x.dot(x))\n",
        "print(x.dot(x.T))"
      ]
    },
    {
      "cell_type": "code",
      "execution_count": 85,
      "metadata": {
        "colab": {
          "base_uri": "https://localhost:8080/"
        },
        "id": "qIpTE-5ZVhgZ",
        "outputId": "841c72ea-ce88-455a-e32b-bd7bee2d0276"
      },
      "outputs": [
        {
          "name": "stdout",
          "output_type": "stream",
          "text": [
            "(4, 3)\n",
            "[[ 0.0760046  -0.5202442  -1.37636971]\n",
            " [-1.20088015  0.69273155  0.69123727]\n",
            " [-1.53258194 -0.15437113  0.29347153]\n",
            " [ 0.08414989  0.26526198  0.87011997]]\n",
            "[[-0.57776892 -0.29970375]\n",
            " [ 1.29726448 -0.45476519]\n",
            " [ 0.05938168 -1.24829425]\n",
            " [ 0.22651155  0.24908685]]\n",
            "(4, 2)\n"
          ]
        }
      ],
      "source": [
        "# matrix multiplication\n",
        "\n",
        "# define two matrices\n",
        "A = np.random.randn(4,3)\n",
        "print(np.shape(A))\n",
        "print(A)\n",
        "# print(A.dot(A)) # Error\n",
        "\n",
        "C = np.random.randn(3,2)\n",
        "# print(C)\n",
        "# print(np.shape(C))\n",
        "print(A.dot(C))\n",
        "print(A.dot(C).shape)\n",
        "# print('=======')\n",
        "# print(np.dot(A,C))\n"
      ]
    },
    {
      "cell_type": "code",
      "execution_count": null,
      "metadata": {
        "id": "3PKboHKcVhgZ",
        "outputId": "592f3cd6-00ee-4ecb-8366-65414872bb76"
      },
      "outputs": [
        {
          "data": {
            "text/plain": [
              "array([[1., 0.],\n",
              "       [0., 1.]])"
            ]
          },
          "execution_count": 4,
          "metadata": {},
          "output_type": "execute_result"
        }
      ],
      "source": [
        "# conformability\n"
      ]
    },
    {
      "cell_type": "markdown",
      "metadata": {
        "id": "Qr1ECD3-Vhga"
      },
      "source": [
        "## Pass Activity"
      ]
    },
    {
      "cell_type": "markdown",
      "metadata": {
        "id": "2Og12imAVhga"
      },
      "source": [
        "Define a string with a value equal to “Python is fun!”. Print every third character of this string.\n",
        "\n",
        "Create three list variables named 'StudentName', 'ID', and 'EmailAddress'. Add 5 random values in these lists and print them.\n",
        "\n",
        "Create a dictionary variable with three keys, which are named same as the list created in the previous problem. Insert the previously created lists in the dictionary variable and print it.\n"
      ]
    },
    {
      "cell_type": "code",
      "execution_count": 109,
      "metadata": {
        "colab": {
          "base_uri": "https://localhost:8080/"
        },
        "id": "R7hTfFpuC9xQ",
        "outputId": "068b8d4f-5861-453b-8ce2-75123a771878"
      },
      "outputs": [
        {
          "name": "stdout",
          "output_type": "stream",
          "text": [
            "tnsu\n",
            "[-0.56588678  0.22516407  0.75502785 -1.9739454   0.934994  ] [ 0.18195058 -1.31107589  1.09037749  0.29116634 -0.19000723] [ 0.0670728  -0.95254672  0.0260208  -0.19381965  0.6928877 ]\n",
            "{'StudentName': array([-0.56588678,  0.22516407,  0.75502785, -1.9739454 ,  0.934994  ]), 'ID': array([ 0.18195058, -1.31107589,  1.09037749,  0.29116634, -0.19000723]), 'EmailAddress': array([ 0.0670728 , -0.95254672,  0.0260208 , -0.19381965,  0.6928877 ])}\n"
          ]
        }
      ],
      "source": [
        "#Define a string with a value equal to “Python is fun!”. Print every third character of this string.\n",
        "\n",
        "string = \"Python is fun!\"\n",
        "print(string[2::3])\n",
        "\n",
        "\n",
        "# Create three list variables named 'StudentName', 'ID', and 'EmailAddress'. Add 5 random values in these lists and print them.\n",
        "StudentName = np.random.randn(5)\n",
        "ID = np.random.randn(5)\n",
        "EmailAddress = np.random.randn(5)\n",
        "print(StudentName, ID, EmailAddress )\n",
        "\n",
        "\n",
        "# Create a dictionary variable with three keys, which are named same as the list created in the previous problem. Insert the previously created lists in the dictionary variable and print it.\n",
        "d = {\"StudentName\":StudentName, \"ID\": ID,  \"EmailAddress\": EmailAddress}\n",
        "print(d)"
      ]
    }
  ],
  "metadata": {
    "colab": {
      "provenance": []
    },
    "kernelspec": {
      "display_name": "base",
      "language": "python",
      "name": "python3"
    },
    "language_info": {
      "codemirror_mode": {
        "name": "ipython",
        "version": 3
      },
      "file_extension": ".py",
      "mimetype": "text/x-python",
      "name": "python",
      "nbconvert_exporter": "python",
      "pygments_lexer": "ipython3",
      "version": "3.10.9"
    },
    "orig_nbformat": 4,
    "vscode": {
      "interpreter": {
        "hash": "43cae3e9bfb3f5b17a32986a8d7b9d2dfbcb889988692924b547bacfc7e713ac"
      }
    }
  },
  "nbformat": 4,
  "nbformat_minor": 0
}
