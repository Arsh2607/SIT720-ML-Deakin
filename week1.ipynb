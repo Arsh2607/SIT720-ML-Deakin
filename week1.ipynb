{
  "cells": [
    {
      "cell_type": "markdown",
      "metadata": {
        "id": "bcHa9PG1VhgT"
      },
      "source": [
        "## Python Module and Package"
      ]
    },
    {
      "cell_type": "code",
      "execution_count": null,
      "metadata": {
        "id": "eLosarONVhgV",
        "outputId": "3fa8eb76-071e-481b-bd97-85f58ef4caa0"
      },
      "outputs": [
        {
          "name": "stdout",
          "output_type": "stream",
          "text": [
            "hi\n"
          ]
        }
      ],
      "source": [
        "\n",
        "from packageA.resource import pr\n",
        "# import functions from a module\n",
        "\n",
        "# import functions from a package\n",
        "\n",
        "\n"
      ]
    },
    {
      "cell_type": "markdown",
      "source": [
        "## Control Flow"
      ],
      "metadata": {
        "id": "C2HrxcFCsE_N"
      }
    },
    {
      "cell_type": "code",
      "source": [
        "# if \n",
        "# else\n",
        "\n",
        "# while\n",
        "\n",
        "# for\n"
      ],
      "metadata": {
        "id": "gYrnv_JZsC9_"
      },
      "execution_count": null,
      "outputs": []
    },
    {
      "cell_type": "markdown",
      "metadata": {
        "id": "eM-B_L05VhgW"
      },
      "source": [
        "## Vector/matrix operations"
      ]
    },
    {
      "cell_type": "code",
      "source": [
        "import numpy as np"
      ],
      "metadata": {
        "id": "EUgZ550_bMXX"
      },
      "execution_count": 11,
      "outputs": []
    },
    {
      "cell_type": "code",
      "execution_count": 14,
      "metadata": {
        "id": "n5wwZtTMVhgX",
        "outputId": "c8a1c0c7-8b61-4f42-fd2a-ab9db5158ef1",
        "colab": {
          "base_uri": "https://localhost:8080/"
        }
      },
      "outputs": [
        {
          "output_type": "stream",
          "name": "stdout",
          "text": [
            "[1 2 3 4]\n",
            "(4,)\n",
            "[1 2 3 4]\n"
          ]
        },
        {
          "output_type": "execute_result",
          "data": {
            "text/plain": [
              "array([ True,  True,  True,  True])"
            ]
          },
          "metadata": {},
          "execution_count": 14
        }
      ],
      "source": [
        "# define a vector\n",
        "x = np.array([1, 2, 3, 4])\n",
        "print(x)\n",
        "print(x.shape)\n",
        "\n",
        "# transpose x\n",
        "print(x.T)\n",
        "\n",
        "x == x.T"
      ]
    },
    {
      "cell_type": "code",
      "source": [
        "x / 2"
      ],
      "metadata": {
        "id": "zULKhPX9ci43",
        "outputId": "d6baf09e-fb5f-4e8a-e334-ddd97170b49c",
        "colab": {
          "base_uri": "https://localhost:8080/"
        }
      },
      "execution_count": 18,
      "outputs": [
        {
          "output_type": "execute_result",
          "data": {
            "text/plain": [
              "array([0.5, 1. , 1.5, 2. ])"
            ]
          },
          "metadata": {},
          "execution_count": 18
        }
      ]
    },
    {
      "cell_type": "code",
      "execution_count": 21,
      "metadata": {
        "id": "yyJNVuT9VhgX",
        "outputId": "0d77725d-4fff-4be0-8551-158c935b374d",
        "colab": {
          "base_uri": "https://localhost:8080/"
        }
      },
      "outputs": [
        {
          "output_type": "stream",
          "name": "stdout",
          "text": [
            "30\n"
          ]
        }
      ],
      "source": [
        "# how about the following code?\n",
        "x = np.array([1, 2, 3, 4])\n",
        "print(x.dot(x))"
      ]
    },
    {
      "cell_type": "code",
      "execution_count": null,
      "metadata": {
        "id": "qIpTE-5ZVhgZ",
        "outputId": "893e2e39-bd29-4878-d248-7edce26aeeb4"
      },
      "outputs": [
        {
          "name": "stdout",
          "output_type": "stream",
          "text": [
            "(4, 3)\n",
            "(3, 2)\n",
            "[[ 0.11960342  1.25453601]\n",
            " [-0.84462071  0.47862569]\n",
            " [ 1.50776488 -1.06569701]\n",
            " [-1.90085327  2.75265387]]\n",
            "=======\n",
            "[[ 0.11960342  1.25453601]\n",
            " [-0.84462071  0.47862569]\n",
            " [ 1.50776488 -1.06569701]\n",
            " [-1.90085327  2.75265387]]\n"
          ]
        }
      ],
      "source": [
        "# matrix multiplication\n",
        "A = np.random.randn(4,3)\n",
        "C = np.random.randn(3,2)\n",
        "print(np.shape(A))\n",
        "print(np.shape(C))\n",
        "\n",
        "print(A.dot(C))\n",
        "print('=======')\n",
        "print(np.dot(A,C))\n"
      ]
    },
    {
      "cell_type": "code",
      "execution_count": null,
      "metadata": {
        "id": "3PKboHKcVhgZ",
        "outputId": "592f3cd6-00ee-4ecb-8366-65414872bb76"
      },
      "outputs": [
        {
          "data": {
            "text/plain": [
              "array([[1., 0.],\n",
              "       [0., 1.]])"
            ]
          },
          "execution_count": 4,
          "metadata": {},
          "output_type": "execute_result"
        }
      ],
      "source": [
        "# conformability\n"
      ]
    },
    {
      "cell_type": "markdown",
      "metadata": {
        "id": "Qr1ECD3-Vhga"
      },
      "source": [
        "## Pass Activity"
      ]
    },
    {
      "cell_type": "markdown",
      "metadata": {
        "id": "2Og12imAVhga"
      },
      "source": [
        "Define a string with a value equal to “Python is fun!”. Print every third character of this string.\n",
        "\n",
        "Create three list variables named 'StudentName', 'ID', and 'EmailAddress'. Add 5 random values in these lists and print them.\n",
        "\n",
        "Create a dictionary variable with three keys, which are named same as the list created in the previous problem. Insert the previously created lists in the dictionary variable and print it.\n"
      ]
    },
    {
      "cell_type": "code",
      "source": [
        "\n",
        "# Define a string with a value equal to “Python is fun!”. Print every third character of this string.\n",
        "string = \"Python is fun!\"\n",
        "print(string[2::3])\n",
        "\n",
        "# Create three list variables named 'StudentName', 'ID', and 'EmailAddress'. Add 5 random values in these lists and print them.\n",
        "StudentName = np.random.randn(5)\n",
        "ID  = np.random.randn(5)\n",
        "EmailAddress = np.random.randn(5)\n",
        "\n",
        "print(StudentName)\n",
        "print(ID)\n",
        "print(EmailAddress)\n",
        "\n",
        "\n",
        "# Create a dictionary variable with three keys, which are named same as the list created in the previous problem. Insert the previously created lists in the dictionary variable and print it.\n",
        "d = {\"StudentName\": None, \"ID\":None, \"EmailAddress\": None }\n",
        "for key in d:\n",
        "  if key == \"StudentName\":\n",
        "    d[key] = StudentName\n",
        "  elif key == \"ID\":\n",
        "    d[key] = ID\n",
        "  else: \n",
        "    d[key] = EmailAddress\n",
        "\n",
        "print(d)"
      ],
      "metadata": {
        "id": "BnH0WLXQp_KW"
      },
      "execution_count": null,
      "outputs": []
    },
    {
      "cell_type": "code",
      "source": [
        "import pandas as pd\n",
        "\n",
        "pd.read_csv(\"data/data.csv\")"
      ],
      "metadata": {
        "id": "YxEDbtwwp_wF"
      },
      "execution_count": null,
      "outputs": []
    }
  ],
  "metadata": {
    "kernelspec": {
      "display_name": "base",
      "language": "python",
      "name": "python3"
    },
    "language_info": {
      "codemirror_mode": {
        "name": "ipython",
        "version": 3
      },
      "file_extension": ".py",
      "mimetype": "text/x-python",
      "name": "python",
      "nbconvert_exporter": "python",
      "pygments_lexer": "ipython3",
      "version": "3.10.9"
    },
    "orig_nbformat": 4,
    "vscode": {
      "interpreter": {
        "hash": "43cae3e9bfb3f5b17a32986a8d7b9d2dfbcb889988692924b547bacfc7e713ac"
      }
    },
    "colab": {
      "provenance": []
    }
  },
  "nbformat": 4,
  "nbformat_minor": 0
}