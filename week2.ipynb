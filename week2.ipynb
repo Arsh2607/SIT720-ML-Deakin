{
 "cells": [
  {
   "cell_type": "code",
   "execution_count": 1,
   "metadata": {},
   "outputs": [],
   "source": [
    "# ! pip install stats\n",
    "# ! pip install matplotlib\n",
    "# ! pip install scipy\n",
    "import numpy as np\n",
    "from scipy import stats\n",
    "import matplotlib.pyplot as plt\n",
    "import scipy"
   ]
  },
  {
   "attachments": {},
   "cell_type": "markdown",
   "metadata": {},
   "source": [
    "\n",
    "## Concepts/terminology \n",
    "**Statistics**\n",
    "* A random experiment: \"an experiment or a process for which the outcome cannot be predicted with certainty\"\n",
    "* Sample space v.s. Event\n",
    "* Random Variables: \"quantities of interest that are determined by the result of the experiment are known as random variable\"\n",
    "\n",
    "\n",
    "**Probability**\n",
    "* Probability of an event\n",
    "* Joint probability v.s Conditional probability\n",
    "* Bayes Rule: \"how you should change your existing beliefs in the light of new occurrence\"\n",
    "    + $Pr(\\text{cancer=True} | \\text{Test=Positive}) = \\frac{Pr(\\text{cancer=True}) Pr(\\text{Test=Positive}|\\text{cancer=True})}{Pr(\\text{Test=Positive})}$\n",
    "    + It can be used to calculate unknown poterior probability [in some cases](https://machinelearningmastery.com/bayes-theorem-for-machine-learning/#:~:text=It%20is%20often%20the%20case,\\)%20*%20P\\(not%20A\\))\n",
    "    + How does this Bayes rule help use build ML models?\n",
    "    parameters; data\n",
    "\n",
    "    maximize Pr(parameters|data)\n",
    "    \n",
    "    maximize Pr(data|parameters) * Pr(parameters) \n",
    "\n",
    "\n",
    "**Reference**\n",
    "* Introduction to Probability and Statistics for Engineers and Scientists"
   ]
  },
  {
   "attachments": {},
   "cell_type": "markdown",
   "metadata": {},
   "source": [
    "## Random Variables"
   ]
  },
  {
   "cell_type": "code",
   "execution_count": null,
   "metadata": {},
   "outputs": [],
   "source": [
    "# Random Number Generation (continuous)\n",
    "\n",
    "# Random Number Genration (discrete)\n",
    "probs = (1/6, 1/6,1/6, 1/6, 1/6, 1/6)\n",
    "x = [1,2,3,4,5,6]#np.arange(1, len(probs)+1)\n",
    "\n",
    "# Plot Probability Distribution Function\n",
    "fig, axes = plt.subplots(1, 1)\n",
    "axes.bar(x, probs)\n",
    "axes.set_xlabel('X')\n",
    "\n",
    "# Plot Cumulative Distribution Function\n",
    "# cumulated_probs = stats.rv_discrete(values=(x, probs)).cdf(x) # https://docs.scipy.org/doc/scipy/reference/generated/scipy.stats.rv_discrete.html\n",
    "# cumulated_probs = []\n",
    "# cumulated_p = 0\n",
    "# for p in probs:\n",
    "#     cumulated_p += p\n",
    "#     cumulated_probs.append(cumulated_p)\n",
    "# fig, ax = plt.subplots(1, 1)\n",
    "# ax.plot(x, cumulated_probs, marker='o', markerfacecolor='r', linestyle='None', markersize=10, markeredgecolor='r') # fnid more parameters here: https://matplotlib.org/stable/api/_as_gen/matplotlib.lines.Line2D.html#matplotlib.lines.Line2D.set\n",
    "# ax.vlines(x, 0, cumulated_probs, colors='r', linewidth=4) \n"
   ]
  },
  {
   "attachments": {},
   "cell_type": "markdown",
   "metadata": {},
   "source": [
    "## Common Distributions"
   ]
  },
  {
   "cell_type": "code",
   "execution_count": null,
   "metadata": {},
   "outputs": [],
   "source": [
    "# Bernoulli distribution\n",
    "\n",
    "\n",
    "# Uniform distribution\n",
    "\n",
    "# Normal distribution\n"
   ]
  },
  {
   "attachments": {},
   "cell_type": "markdown",
   "metadata": {},
   "source": [
    "## Central Limit Theorem\n",
    "\n",
    "if you have a population with mean and standard deviation and take sufficiently large random samples from the existing population, then the distribution of the sample means will be approximately normally distributed."
   ]
  },
  {
   "cell_type": "code",
   "execution_count": null,
   "metadata": {},
   "outputs": [],
   "source": [
    " # number of sample\n",
    "num = [1, 10, 50, 100] \n",
    "# list of sample means\n",
    "means = [] \n",
    " \n",
    "# Generating 1, 10, 30, 100 random numbers from -40 to 40\n",
    "# taking their mean and appending it to list means.\n",
    "for j in num:\n",
    "    x = [np.mean(\n",
    "        [np.random.uniform() for _ in range(j)]) for _i in range(1000)]\n",
    "    means.append(x)\n",
    "k = 0\n",
    " \n",
    "# plotting all the means in one figure\n",
    "fig, ax = plt.subplots(2, 2, figsize =(8, 8))\n",
    "for i in range(0, 2):\n",
    "    for j in range(0, 2):\n",
    "        # Histogram for each x stored in means\n",
    "        ax[i, j].hist(means[k], 10, density = True)\n",
    "        ax[i, j].set_title(label = num[k])\n",
    "        k = k + 1\n",
    "plt.show()"
   ]
  },
  {
   "cell_type": "code",
   "execution_count": null,
   "metadata": {},
   "outputs": [],
   "source": []
  },
  {
   "attachments": {},
   "cell_type": "markdown",
   "metadata": {},
   "source": [
    "## Data Wrangling\n",
    "* Identifying and correcting errors and inconsistencies in the data \n",
    "* Handling missing or incomplete values \n",
    "* Combining multiple datasets \n",
    "* Converting the data into a format that is suitable for analysis \n",
    "* Identifying and removing outliers \n",
    "* Normalizing the data \n",
    "* Aggregating the data into useful summary statistics "
   ]
  },
  {
   "attachments": {},
   "cell_type": "markdown",
   "metadata": {},
   "source": [
    "## Image and Text"
   ]
  },
  {
   "cell_type": "code",
   "execution_count": null,
   "metadata": {},
   "outputs": [],
   "source": [
    "# represent image in a numerical vector of features: e.g., color, shapes, texture, brightness of multiple (say 135) sliced windows of a image\n",
    "\n",
    "# repesent text with BOW\n",
    "\n",
    "# What are some of its limitations?"
   ]
  },
  {
   "attachments": {},
   "cell_type": "markdown",
   "metadata": {},
   "source": [
    "## Pass Activity"
   ]
  },
  {
   "cell_type": "code",
   "execution_count": 11,
   "metadata": {},
   "outputs": [
    {
     "name": "stdout",
     "output_type": "stream",
     "text": [
      "f21 2\n"
     ]
    }
   ],
   "source": [
    "# Read \"train_wbcd.csv\" and print the feature name with numbers of missing entries.\n",
    "import pandas as pd\n",
    "df = pd.read_csv('data/train_wbcd.csv')\n",
    "for col_name in df.columns:\n",
    "    if df[col_name].isnull().sum() > 0:\n",
    "        print(col_name, df[col_name].isnull().sum())\n",
    "\n"
   ]
  },
  {
   "cell_type": "code",
   "execution_count": 12,
   "metadata": {},
   "outputs": [
    {
     "name": "stdout",
     "output_type": "stream",
     "text": [
      "Median(m2):  15.315\n",
      "[70, 74]\n",
      "Before Fillna\n",
      "70   NaN\n",
      "74   NaN\n",
      "Name: f21, dtype: float64\n",
      "70    15.315\n",
      "74    15.315\n",
      "Name: f21, dtype: float64\n"
     ]
    }
   ],
   "source": [
    "# (2pm - 4pm workshop) Fill in the missing entries. For filling any feature, you can use either the mean or median value of the feature values \n",
    "# from observed entries. Explain the reason behind your choice and print replacement value of each feature.\n",
    "\n",
    "m1 = df['f21'].mean()\n",
    "m2 = df['f21'].median()\n",
    "print('Median(m2): ', m2)\n",
    "indices_for_na = list(df[df['f21'].isnull()].index)\n",
    "print(indices_for_na)             \n",
    "print('Before Fillna')\n",
    "print(df['f21'][indices_for_na])\n",
    "\n",
    "df2 = df.fillna(value=m2)\n",
    "print(df2['f21'][indices_for_na])"
   ]
  },
  {
   "cell_type": "code",
   "execution_count": 13,
   "metadata": {},
   "outputs": [
    {
     "name": "stdout",
     "output_type": "stream",
     "text": [
      "15.315\n",
      "Before fillna.\n",
      "70   NaN\n",
      "74   NaN\n",
      "Name: f21, dtype: float64\n",
      "After fillna.\n",
      "70    15.315\n",
      "74    15.315\n",
      "Name: f21, dtype: float64\n"
     ]
    }
   ],
   "source": [
    "# # (4pm - 6pm workshop) Fill in the missing entries. For filling any feature, you can use either the mean or median value of the feature values \n",
    "# from observed entries. Explain the reason behind your choice and print replacement value of each feature.\n",
    "m1 = df['f21'].mean()\n",
    "m2 = df['f21'].median()\n",
    "print(m2)\n",
    "\n",
    "\n",
    "indices_for_null = list(df['f21'][df['f21'].isnull()].index)\n",
    "print('Before fillna.')\n",
    "print(df['f21'][indices_for_null])\n",
    "\n",
    "print('After fillna.')\n",
    "df2 = df.fillna(value=m2)\n",
    "print(df2['f21'][indices_for_null])\n"
   ]
  },
  {
   "cell_type": "code",
   "execution_count": 14,
   "metadata": {},
   "outputs": [],
   "source": [
    "# Encode the categorical variable \"Diagnosis\" using an appropriate encoding approach and display the encoded values. \n",
    "# Justify your selection of encoding approach.  Save the modified data into a csv file. Upload this new file with your submission in OnTrack.\n",
    "from sklearn.preprocessing import LabelEncoder, OneHotEncoder, OrdinalEncoder\n",
    "# label_encoder = LabelEncoder()\n",
    "one_hot_encoder = OneHotEncoder()\n",
    "ord_encoder = OrdinalEncoder()\n"
   ]
  },
  {
   "cell_type": "code",
   "execution_count": 16,
   "metadata": {},
   "outputs": [
    {
     "name": "stdout",
     "output_type": "stream",
     "text": [
      "Ordinal:  [[0.]\n",
      " [1.]\n",
      " [0.]\n",
      " [0.]\n",
      " [0.]\n",
      " [0.]\n",
      " [0.]\n",
      " [0.]\n",
      " [1.]\n",
      " [0.]\n",
      " [1.]\n",
      " [0.]\n",
      " [0.]\n",
      " [0.]\n",
      " [0.]\n",
      " [0.]\n",
      " [0.]\n",
      " [0.]\n",
      " [0.]\n",
      " [1.]\n",
      " [0.]\n",
      " [0.]\n",
      " [1.]\n",
      " [1.]\n",
      " [0.]\n",
      " [0.]\n",
      " [0.]\n",
      " [1.]\n",
      " [0.]\n",
      " [0.]\n",
      " [1.]\n",
      " [1.]\n",
      " [0.]\n",
      " [1.]\n",
      " [0.]\n",
      " [0.]\n",
      " [0.]\n",
      " [0.]\n",
      " [1.]\n",
      " [1.]\n",
      " [0.]\n",
      " [1.]\n",
      " [1.]\n",
      " [1.]\n",
      " [1.]\n",
      " [0.]\n",
      " [0.]\n",
      " [0.]\n",
      " [1.]\n",
      " [1.]\n",
      " [0.]\n",
      " [0.]\n",
      " [0.]\n",
      " [0.]\n",
      " [1.]\n",
      " [0.]\n",
      " [1.]\n",
      " [1.]\n",
      " [1.]\n",
      " [1.]\n",
      " [0.]\n",
      " [1.]\n",
      " [0.]\n",
      " [0.]\n",
      " [0.]\n",
      " [0.]\n",
      " [1.]\n",
      " [1.]\n",
      " [0.]\n",
      " [0.]\n",
      " [0.]\n",
      " [0.]\n",
      " [1.]\n",
      " [0.]\n",
      " [1.]\n",
      " [1.]\n",
      " [0.]\n",
      " [0.]\n",
      " [0.]\n",
      " [1.]\n",
      " [1.]\n",
      " [0.]\n",
      " [0.]\n",
      " [1.]\n",
      " [0.]\n",
      " [1.]\n",
      " [0.]\n",
      " [1.]\n",
      " [1.]\n",
      " [1.]\n",
      " [1.]\n",
      " [1.]\n",
      " [0.]\n",
      " [1.]\n",
      " [1.]\n",
      " [1.]\n",
      " [1.]\n",
      " [0.]\n",
      " [0.]\n",
      " [0.]]\n"
     ]
    }
   ],
   "source": [
    "# print('Original: ', df['Diagnosis'])\n",
    "# sparse_output = one_hot_encoder.fit_transform(df['Diagnosis'].to_numpy().reshape(-1, 1))\n",
    "# print(type(sparse_output))\n",
    "# print(\"One hot: \", sparse_output.toarray())\n",
    "sparse_output = ord_encoder.fit_transform(df['Diagnosis'].to_numpy().reshape(-1, 1))\n",
    "print('Ordinal: ', sparse_output)\n",
    "\n",
    "\n",
    "# One hot\n",
    "# B: [1, 0, 0]\n",
    "# M: [0, 1, 0]\n",
    "# N: [0, 0, 1]\n",
    "\n",
    "# ordinal\n",
    "# B, M, N\n",
    "# 0, 1, 2"
   ]
  },
  {
   "cell_type": "code",
   "execution_count": 17,
   "metadata": {},
   "outputs": [
    {
     "data": {
      "text/plain": [
       "0     0\n",
       "1     1\n",
       "2     0\n",
       "3     0\n",
       "4     0\n",
       "     ..\n",
       "95    1\n",
       "96    1\n",
       "97    0\n",
       "98    0\n",
       "99    0\n",
       "Length: 100, dtype: int8"
      ]
     },
     "execution_count": 17,
     "metadata": {},
     "output_type": "execute_result"
    }
   ],
   "source": [
    "df[\"Diagnosis\"].astype('category').cat.codes"
   ]
  },
  {
   "cell_type": "code",
   "execution_count": null,
   "metadata": {},
   "outputs": [],
   "source": [
    "# Apply the min-max scaling on features f1 to f30. Plot distribution of first six features before and after scaling.\n",
    "# Is there any difference? Please explain. "
   ]
  },
  {
   "cell_type": "code",
   "execution_count": 19,
   "metadata": {},
   "outputs": [
    {
     "data": {
      "image/png": "[encoded data removed]",
      "text/plain": [
       "<Figure size 2000x600 with 12 Axes>"
      ]
     },
     "metadata": {},
     "output_type": "display_data"
    }
   ],
   "source": [
    "from sklearn.preprocessing import MinMaxScaler\n",
    "scaler = MinMaxScaler()\n",
    "df[['f'+str(i) for i in range(1,31)]] = scaler.fit_transform(df[['f'+str(i) for i in range(1,31)]])\n",
    "\n",
    "\n",
    "fig, axs = plt.subplots(2,6, figsize=(20,6))\n",
    "\n",
    "for i in range(6):\n",
    "    axs[0,i].set_title('f'+str(i+1)+'Before Scaling') \n",
    "    axs[0,i].hist(df['f'+str(i+1)], bins=20)\n",
    "    axs[1,i].set_title('f'+str(i+1)+'After Scaling')\n",
    "    axs[1,i].hist(df['f'+str(i+1)], bins=20)\n",
    "plt.show()\n",
    "  \n"
   ]
  },
  {
   "cell_type": "code",
   "execution_count": null,
   "metadata": {},
   "outputs": [],
   "source": []
  }
 ],
 "metadata": {
  "kernelspec": {
   "display_name": "sit720",
   "language": "python",
   "name": "python3"
  },
  "language_info": {
   "codemirror_mode": {
    "name": "ipython",
    "version": 3
   },
   "file_extension": ".py",
   "mimetype": "text/x-python",
   "name": "python",
   "nbconvert_exporter": "python",
   "pygments_lexer": "ipython3",
   "version": "3.10.9"
  },
  "orig_nbformat": 4
 },
 "nbformat": 4,
 "nbformat_minor": 2
}
