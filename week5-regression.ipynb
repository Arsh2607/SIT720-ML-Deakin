{
 "cells": [
  {
   "attachments": {},
   "cell_type": "markdown",
   "metadata": {},
   "source": []
  },
  {
   "cell_type": "code",
   "execution_count": 13,
   "metadata": {},
   "outputs": [],
   "source": [
    "import numpy as np\n",
    "import pandas as pd\n",
    "import matplotlib.pyplot as plt\n",
    "import seaborn as sns\n",
    "from sklearn.model_selection import train_test_split\n",
    "from sklearn.metrics import mean_squared_error, r2_score\n",
    "from sklearn import metrics\n",
    "from sklearn.linear_model import LinearRegression\n",
    "from sklearn.preprocessing import MinMaxScaler\n",
    "from sklearn.model_selection import LeaveOneOut, KFold, StratifiedKFold, GroupKFold"
   ]
  },
  {
   "attachments": {},
   "cell_type": "markdown",
   "metadata": {},
   "source": [
    "## Metrics for Evaluating Regression Model\n",
    "\n",
    "* MSE, RMSE\n",
    "$$\\underbrace{E_{\\mathbf{x}, y, D}\\left[\\left(h_D(\\mathbf{x})-y\\right)^2\\right]}_{\\text {Expected Tet Error }}=\\underbrace{E_{\\mathbf{x} \\cdot D}\\left[\\left(h_D(\\mathbf{x})-\\bar{h}(\\mathbf{x})\\right)^2\\right]}_{\\text {Variance }}+\\underbrace{E_{\\mathbf{x}, y}\\left[(\\bar{y}(\\mathbf{x})-y)^2\\right]}_{\\text {Noise }}+\\underbrace{E_{\\mathbf{x}}\\left[(\\bar{h}(\\mathbf{x})-\\bar{y}(\\mathbf{x}))^2\\right]}_{\\text {Bias }}$$\n",
    "\n",
    "* MAE\n",
    "* [Coefficient of determination](https://online.stat.psu.edu/stat462/node/95/) $R^2$"
   ]
  },
  {
   "attachments": {},
   "cell_type": "markdown",
   "metadata": {},
   "source": [
    "## Univariate Linear Regression"
   ]
  },
  {
   "cell_type": "code",
   "execution_count": 164,
   "metadata": {},
   "outputs": [
    {
     "name": "stdout",
     "output_type": "stream",
     "text": [
      "0.2140000000000001\n",
      "0.2140000000000001\n",
      "0.8929999999999999\n",
      "0.8929999999999999\n"
     ]
    }
   ],
   "source": [
    "\n",
    "y_true = np.array([1,2,3,4,5])\n",
    "y_pred = np.array([1,2.5,3,4.9,4.9])\n",
    "\n",
    "# MSE\n",
    "print(mean_squared_error(y_true, y_pred))\n",
    "print(np.sum((y_true-y_pred)**2) / len(y_true))\n",
    "\n",
    "\n",
    "# r-sqaure\n",
    "print(r2_score(y_true, y_pred))\n",
    "numerator = np.sum( (y_true - y_pred) ** 2)\n",
    "denominator = np.sum((y_true - np.average(y_true, axis=0,)) ** 2) \n",
    "print(1-numerator / denominator)\n",
    "# print((np.corrcoef(y_true, y_pred)[0, 1]))\n",
    "\n"
   ]
  },
  {
   "cell_type": "code",
   "execution_count": 147,
   "metadata": {},
   "outputs": [
    {
     "data": {
      "text/plain": [
       "<matplotlib.collections.PathCollection at 0x7fb871918940>"
      ]
     },
     "execution_count": 147,
     "metadata": {},
     "output_type": "execute_result"
    },
    {
     "data": {
      "image/png": "[encoded data removed]",
      "text/plain": [
       "<Figure size 640x480 with 1 Axes>"
      ]
     },
     "metadata": {},
     "output_type": "display_data"
    }
   ],
   "source": [
    "df = pd.read_csv(\"data/house-prices/train.csv\") # from https://www.kaggle.com/competitions/house-prices-advanced-regression-techniques/data\n",
    "x = df['GrLivArea'] # Above grade (ground) living area square feet\n",
    "y_ture = df['SalePrice']\n",
    "# Create a scatter plot of the data points\n",
    "plt.scatter(x, y_ture)\n"
   ]
  },
  {
   "attachments": {},
   "cell_type": "markdown",
   "metadata": {},
   "source": [
    "Does the formula look similar to covariance?\n",
    "\n",
    "$$\n",
    "\\mathbf{w}=\\frac{\\sum_{i=1}^n\\left(x_i-\\bar{x}\\right)\\left(y_i-\\bar{y}\\right)}{\n",
    "\\sum_{i=1}^n\\left(x_i-\\bar{x}\\right)^2}\n",
    "$$\n"
   ]
  },
  {
   "cell_type": "code",
   "execution_count": 165,
   "metadata": {},
   "outputs": [
    {
     "name": "stdout",
     "output_type": "stream",
     "text": [
      "Slope:  107.13035896582514\n"
     ]
    }
   ],
   "source": [
    "# Calculate the slope using the closed-form formula\n",
    "x_mean = np.mean(x)\n",
    "y_mean = np.mean(y_true)\n",
    "numerator = np.sum(np.multiply(x - x_mean, y - y_mean))\n",
    "denominator = np.sum(np.power(x - x_mean, 2))\n",
    "print(\"Slope: \", numerator/denominator)\n"
   ]
  },
  {
   "cell_type": "code",
   "execution_count": 152,
   "metadata": {},
   "outputs": [
    {
     "data": {
      "text/plain": [
       "(1460,)"
      ]
     },
     "execution_count": 152,
     "metadata": {},
     "output_type": "execute_result"
    }
   ],
   "source": [
    "x.shape\n",
    "# y_true.shape"
   ]
  },
  {
   "cell_type": "code",
   "execution_count": 166,
   "metadata": {},
   "outputs": [
    {
     "ename": "TypeError",
     "evalue": "expected x and y to have same length",
     "output_type": "error",
     "traceback": [
      "\u001b[0;31m---------------------------------------------------------------------------\u001b[0m",
      "\u001b[0;31mTypeError\u001b[0m                                 Traceback (most recent call last)",
      "Cell \u001b[0;32mIn[166], line 2\u001b[0m\n\u001b[1;32m      1\u001b[0m \u001b[39m# Numpy API\u001b[39;00m\n\u001b[0;32m----> 2\u001b[0m slope, intercept \u001b[39m=\u001b[39m np\u001b[39m.\u001b[39;49mpolyfit(x, y_true, \u001b[39m1\u001b[39;49m)\n\u001b[1;32m      3\u001b[0m \u001b[39mprint\u001b[39m(\u001b[39m\"\u001b[39m\u001b[39mSlope: \u001b[39m\u001b[39m\"\u001b[39m, slope)\n\u001b[1;32m      4\u001b[0m \u001b[39mprint\u001b[39m(\u001b[39m\"\u001b[39m\u001b[39mIntercept: \u001b[39m\u001b[39m\"\u001b[39m, intercept)\n",
      "File \u001b[0;32m<__array_function__ internals>:200\u001b[0m, in \u001b[0;36mpolyfit\u001b[0;34m(*args, **kwargs)\u001b[0m\n",
      "File \u001b[0;32m~/miniconda3/envs/sit720/lib/python3.10/site-packages/numpy/lib/polynomial.py:642\u001b[0m, in \u001b[0;36mpolyfit\u001b[0;34m(x, y, deg, rcond, full, w, cov)\u001b[0m\n\u001b[1;32m    640\u001b[0m     \u001b[39mraise\u001b[39;00m \u001b[39mTypeError\u001b[39;00m(\u001b[39m\"\u001b[39m\u001b[39mexpected 1D or 2D array for y\u001b[39m\u001b[39m\"\u001b[39m)\n\u001b[1;32m    641\u001b[0m \u001b[39mif\u001b[39;00m x\u001b[39m.\u001b[39mshape[\u001b[39m0\u001b[39m] \u001b[39m!=\u001b[39m y\u001b[39m.\u001b[39mshape[\u001b[39m0\u001b[39m]:\n\u001b[0;32m--> 642\u001b[0m     \u001b[39mraise\u001b[39;00m \u001b[39mTypeError\u001b[39;00m(\u001b[39m\"\u001b[39m\u001b[39mexpected x and y to have same length\u001b[39m\u001b[39m\"\u001b[39m)\n\u001b[1;32m    644\u001b[0m \u001b[39m# set rcond\u001b[39;00m\n\u001b[1;32m    645\u001b[0m \u001b[39mif\u001b[39;00m rcond \u001b[39mis\u001b[39;00m \u001b[39mNone\u001b[39;00m:\n",
      "\u001b[0;31mTypeError\u001b[0m: expected x and y to have same length"
     ]
    }
   ],
   "source": [
    "# Numpy API\n",
    "slope, intercept = np.polyfit(x, y_true, 1)\n",
    "print(\"Slope: \", slope)\n",
    "print(\"Intercept: \", intercept)"
   ]
  },
  {
   "cell_type": "code",
   "execution_count": 153,
   "metadata": {},
   "outputs": [
    {
     "ename": "AttributeError",
     "evalue": "'Series' object has no attribute 'reshape'",
     "output_type": "error",
     "traceback": [
      "\u001b[0;31m---------------------------------------------------------------------------\u001b[0m",
      "\u001b[0;31mAttributeError\u001b[0m                            Traceback (most recent call last)",
      "Cell \u001b[0;32mIn[153], line 5\u001b[0m\n\u001b[1;32m      3\u001b[0m \u001b[39m# Sklearn API\u001b[39;00m\n\u001b[1;32m      4\u001b[0m my_model \u001b[39m=\u001b[39m LinearRegression()\n\u001b[0;32m----> 5\u001b[0m my_model\u001b[39m.\u001b[39mfit(x\u001b[39m.\u001b[39;49mreshape(\u001b[39m-\u001b[39m\u001b[39m1\u001b[39m, \u001b[39m1\u001b[39m), y_true)\n\u001b[1;32m      6\u001b[0m \u001b[39mprint\u001b[39m (\u001b[39m\"\u001b[39m\u001b[39mSlope: \u001b[39m\u001b[39m\"\u001b[39m, my_model\u001b[39m.\u001b[39mcoef_[\u001b[39m0\u001b[39m])\n\u001b[1;32m      7\u001b[0m \u001b[39mprint\u001b[39m (\u001b[39m\"\u001b[39m\u001b[39mIntercept: \u001b[39m\u001b[39m\"\u001b[39m, my_model\u001b[39m.\u001b[39mintercept_)\n",
      "File \u001b[0;32m~/miniconda3/envs/sit720/lib/python3.10/site-packages/pandas/core/generic.py:5902\u001b[0m, in \u001b[0;36mNDFrame.__getattr__\u001b[0;34m(self, name)\u001b[0m\n\u001b[1;32m   5895\u001b[0m \u001b[39mif\u001b[39;00m (\n\u001b[1;32m   5896\u001b[0m     name \u001b[39mnot\u001b[39;00m \u001b[39min\u001b[39;00m \u001b[39mself\u001b[39m\u001b[39m.\u001b[39m_internal_names_set\n\u001b[1;32m   5897\u001b[0m     \u001b[39mand\u001b[39;00m name \u001b[39mnot\u001b[39;00m \u001b[39min\u001b[39;00m \u001b[39mself\u001b[39m\u001b[39m.\u001b[39m_metadata\n\u001b[1;32m   5898\u001b[0m     \u001b[39mand\u001b[39;00m name \u001b[39mnot\u001b[39;00m \u001b[39min\u001b[39;00m \u001b[39mself\u001b[39m\u001b[39m.\u001b[39m_accessors\n\u001b[1;32m   5899\u001b[0m     \u001b[39mand\u001b[39;00m \u001b[39mself\u001b[39m\u001b[39m.\u001b[39m_info_axis\u001b[39m.\u001b[39m_can_hold_identifiers_and_holds_name(name)\n\u001b[1;32m   5900\u001b[0m ):\n\u001b[1;32m   5901\u001b[0m     \u001b[39mreturn\u001b[39;00m \u001b[39mself\u001b[39m[name]\n\u001b[0;32m-> 5902\u001b[0m \u001b[39mreturn\u001b[39;00m \u001b[39mobject\u001b[39;49m\u001b[39m.\u001b[39;49m\u001b[39m__getattribute__\u001b[39;49m(\u001b[39mself\u001b[39;49m, name)\n",
      "\u001b[0;31mAttributeError\u001b[0m: 'Series' object has no attribute 'reshape'"
     ]
    }
   ],
   "source": [
    "\n",
    "# Sklearn API\n",
    "my_model = LinearRegression()\n",
    "my_model.fit(x.reshape(-1, 1), y_true)\n",
    "print (\"Slope: \", my_model.coef_[0])\n",
    "print (\"Intercept: \", my_model.intercept_)\n",
    "\n",
    "# # Add the regression line to the plot\n",
    "# plt.scatter(x, y)\n",
    "# plt.plot(x, slope * x + intercept, color='red')\n",
    "\n",
    "# # Set the title and labels for the plot\n",
    "# plt.title('Regression Line Example')\n",
    "# plt.xlabel('X Values')\n",
    "# plt.ylabel('Y Values')\n",
    "\n",
    "# # Show the plot\n",
    "# plt.show()"
   ]
  },
  {
   "attachments": {},
   "cell_type": "markdown",
   "metadata": {},
   "source": [
    "## Multivariate Linear Regression"
   ]
  },
  {
   "cell_type": "code",
   "execution_count": 168,
   "metadata": {},
   "outputs": [],
   "source": [
    "df = pd.read_csv(\"data/house-prices/train.csv\")\n",
    "df = df[ ['GrLivArea', 'TotalBsmtSF', 'LotArea', 'SalePrice']] # Above grade (ground) living area square feet\n",
    "df = df.dropna()\n",
    "y_true = df['SalePrice'].to_numpy()\n",
    "X = df[['GrLivArea', 'TotalBsmtSF', 'LotArea']].to_numpy()\n"
   ]
  },
  {
   "attachments": {},
   "cell_type": "markdown",
   "metadata": {},
   "source": [
    "$$\n",
    "\\mathbf{w}=\\left(\\mathbf{X}^T(\\mathbf{X}-\\overline{\\mathbf{X}})\\right)^{-1} \\mathbf{X}^T(\\mathbf{y}-\\overline{\\mathbf{y}})\n",
    "$$"
   ]
  },
  {
   "cell_type": "code",
   "execution_count": 169,
   "metadata": {},
   "outputs": [
    {
     "name": "stdout",
     "output_type": "stream",
     "text": [
      "[81.09962868 65.59032341  0.22461289]\n",
      "[81.09962868 65.59032341  0.22461289]\n"
     ]
    }
   ],
   "source": [
    "# Calculate the slope using the closed-form formula\n",
    "X_mean = np.mean(X, axis=0)\n",
    "y_mean = np.mean(y_true)\n",
    "numerator = np.dot(X.T, y_true - y_mean)\n",
    "denominator = np.dot(X.T, X - X_mean)\n",
    "slope = np.dot(np.linalg.inv(denominator), numerator)\n",
    "print(slope)\n",
    "\n",
    "# Sklearn API\n",
    "my_model = LinearRegression()\n",
    "my_model.fit(X, y_true)\n",
    "y_pred = my_model.predict(X)\n",
    "print(my_model.coef_)"
   ]
  },
  {
   "attachments": {},
   "cell_type": "markdown",
   "metadata": {},
   "source": [
    "**Can we use coefficients to evaluate the model?**\n",
    "* [Feature Selection via Rescaled Linear Regressio](https://www.ijcai.org/proceedings/2017/0211.pdf)"
   ]
  },
  {
   "cell_type": "code",
   "execution_count": 170,
   "metadata": {},
   "outputs": [
    {
     "name": "stdout",
     "output_type": "stream",
     "text": [
      "GrLivArea 430476.8290482909\n",
      "TotalBsmtSF 400756.8760479456\n",
      "LotArea 48054.80544450978\n"
     ]
    }
   ],
   "source": [
    "####\n",
    "scaler = MinMaxScaler()\n",
    "X= scaler.fit_transform(X)\n",
    "###\n",
    "my_model = LinearRegression()\n",
    "my_model.fit(X, y_true)\n",
    "# print (my_model.intercept_)\n",
    "feature_cols = ['GrLivArea', 'TotalBsmtSF', 'LotArea']\n",
    "for feat, coef  in zip(feature_cols, my_model.coef_):\n",
    "    print(feat, coef)\n",
    "\n",
    "    \n"
   ]
  },
  {
   "attachments": {},
   "cell_type": "markdown",
   "metadata": {},
   "source": [
    "See [More](https://www.quora.com/In-a-linear-regression-model-is-it-necessary-to-normalize-my-predictors-if-they-are-of-different-scales-some-are-percentages-while-others-are-continuous-variables-If-yes-how-do-I-interpret-the-results-after-the) for normalization in a linear regression model."
   ]
  },
  {
   "attachments": {},
   "cell_type": "markdown",
   "metadata": {},
   "source": [
    "## Hyperparameter Tuning\n",
    "Methods for Data Split\n",
    "* Subsampling\n",
    "\n",
    "* Corss Validation\n",
    "    + KFold, GroupKFold\n",
    "    + [Visualizing cross-validation behavior in scikit-learn](https://scikit-learn.org/stable/auto_examples/model_selection/plot_cv_indices.html)\n",
    "    + [Caveats of Cross-validation](https://www.bing.com/search?q=7+cross+validation+mistaks&cvid=de14ffd0df5042cc883c14bea38f3da1&aqs=edge..69i57j0j69i11004.12424j0j4&FORM=ANAB01&PC=NSJS)\n",
    "    \n",
    "* [Grid Search](https://scikit-learn.org/stable/modules/grid_search.html)\n",
    "\n",
    "Train/test split by  `train_test_split`:\n",
    "* By default, `train_test_split` splits the data into 75% training data and 25% test data which is a good rule of thumb.\n",
    "* `stratify=y` makes sure that the labels to be distributed in train and test sets as they are in the original dataset."
   ]
  },
  {
   "cell_type": "code",
   "execution_count": 28,
   "metadata": {},
   "outputs": [
    {
     "name": "stdout",
     "output_type": "stream",
     "text": [
      "104.91568499819532\n",
      "104.91568499819532\n"
     ]
    }
   ],
   "source": [
    "X_train, X_test, y_train, y_test = train_test_split(X, y_true, test_size=0.3, random_state=42)\n",
    "\n",
    "my_model = LinearRegression()\n",
    "my_model.fit(X_train, y_train)\n",
    "ypredicts = my_model.predict(X_test)\n",
    "print(mean_squared_error(y_test, ypredicts))"
   ]
  },
  {
   "cell_type": "code",
   "execution_count": 174,
   "metadata": {},
   "outputs": [
    {
     "name": "stdout",
     "output_type": "stream",
     "text": [
      "[(array([1, 2, 3]), array([0])), (array([0, 2, 3]), array([1])), (array([0, 1, 3]), array([2])), (array([0, 1, 2]), array([3]))]\n"
     ]
    }
   ],
   "source": [
    "\n",
    "X = np.array([[1, 2], [3, 4], [1, 2], [3, 4]])\n",
    "# kf = KFold(n_splits=2)\n",
    "# print(list(kf.split(X)))\n",
    "\n",
    "# gkf = GroupKFold(n_splits=2)\n",
    "# print(list(gkf.split(X, groups=[0, 1, 0, 1])))\n",
    "\n",
    "loo = LeaveOneOut()\n",
    "print(list(loo.split(X)))\n"
   ]
  },
  {
   "attachments": {},
   "cell_type": "markdown",
   "metadata": {},
   "source": [
    "Beyond regression\n",
    "* Stratified subsampling\n",
    "* StratifiedKFold Cross Validation"
   ]
  },
  {
   "cell_type": "code",
   "execution_count": null,
   "metadata": {},
   "outputs": [],
   "source": [
    "\n",
    "# skf = StratifiedKFold(n_splits=2)\n",
    "# y = np.array([1, 1, 2, 2])\n",
    "# print(list(skf.split(X, y=y)))"
   ]
  },
  {
   "attachments": {},
   "cell_type": "markdown",
   "metadata": {},
   "source": [
    "## Pass Activity"
   ]
  },
  {
   "cell_type": "code",
   "execution_count": null,
   "metadata": {},
   "outputs": [],
   "source": [
    "# Q1: Load the dataset from “sampleData.csv”.  Create training and test dataset using random splitting (70-30)%. Print the train and test data.\n",
    "# Create a linear regression model and report the model performance. (The last feature is the target variable)\n",
    "\n"
   ]
  },
  {
   "cell_type": "code",
   "execution_count": 162,
   "metadata": {},
   "outputs": [
    {
     "name": "stdout",
     "output_type": "stream",
     "text": [
      "104.91568499819532\n"
     ]
    }
   ],
   "source": [
    "df_pass = pd.read_csv('data/sample_dataset.csv')\n",
    "X = df_pass.iloc[:,2:-1].to_numpy()\n",
    "y_true = df_pass.iloc[:,0].to_numpy()\n",
    "\n",
    "X_train, X_test, y_train, y_test = train_test_split(X, y_true, test_size=0.3, random_state=42)\n",
    "my_model = LinearRegression()\n",
    "my_model.fit(X_train, y_train)\n",
    "ypredicts = my_model.predict(X_test)\n",
    "print(mean_squared_error(y_test, ypredicts))\n"
   ]
  },
  {
   "cell_type": "code",
   "execution_count": null,
   "metadata": {},
   "outputs": [],
   "source": [
    "# Q2: Create training and test dataset using leave-one-out based on Subject ID. Print the train and test dataset for the first iteration only.\n",
    "#   Create a linear regression model and compare the performance with Q-1. Explain your findings."
   ]
  },
  {
   "cell_type": "code",
   "execution_count": null,
   "metadata": {},
   "outputs": [],
   "source": [
    "# gkf = GroupKFold(n_splits=2)\n",
    "# print(list(gkf.split(X, groups=[0, 1, 0, 1])))"
   ]
  },
  {
   "cell_type": "code",
   "execution_count": null,
   "metadata": {},
   "outputs": [],
   "source": [
    "# Unique subject IDs in the sample dataset\n",
    "subject_ids = df_pass[\"Subject ID\"].unique()\n",
    "print(subject_ids)\n",
    "\n",
    "# Empty Dictionary that will be used to store training and test dataset\n",
    "datasets = {}\n",
    "\n",
    "# Creating the training and test dataset \n",
    "for id in subject_ids:\n",
    "    datasets[\"X_train\" + str(id)] = df_pass[df_pass[\"Subject ID\"] != id].drop([\"Subject ID\", \"sample ID\",\n",
    "                                                                                             \"feature_31\"], axis = 1)\n",
    "    datasets[\"y_train\" + str(id)] = df_pass[df_pass[\"Subject ID\"] != id][\"feature_31\"]\n",
    "    datasets[\"X_test\" + str(id)] = df_pass[df_pass[\"Subject ID\"] == id].drop([\"Subject ID\", \"sample ID\",\n",
    "                                                                                            \"feature_31\"], axis = 1)\n",
    "    datasets[\"y_test\" + str(id)] = df_pass[df_pass[\"Subject ID\"] == id][\"feature_31\"]\n",
    "\n",
    "print(datasets)\n",
    "\n",
    "\n",
    "# Create an instance of the LinearRegression\n",
    "lin_reg = LinearRegression()\n",
    "print(lin_reg)\n",
    "mae_list = []\n",
    "mse_list = []\n",
    "rmse_list = []\n",
    "for id in subject_ids:\n",
    "    # Fit the linear regression model to the training data\n",
    "    lin_reg.fit(datasets[\"X_train\" + str(id)], datasets[\"y_train\" + str(id)])\n",
    "    # Evaluate the model using the test data\n",
    "    y_test_pred = lin_reg.predict(datasets[\"X_test\" + str(id)])\n",
    "    mae = metrics.mean_absolute_error(datasets[\"y_test\" + str(id)], y_test_pred)\n",
    "    mse = metrics.mean_squared_error(datasets[\"y_test\" + str(id)], y_test_pred)\n",
    "    rmse = np.sqrt(metrics.mean_squared_error(datasets[\"y_test\" + str(id)], y_test_pred))\n",
    "    mae_list.append(mae)\n",
    "    mse_list.append(mse)\n",
    "    rmse_list.append(rmse)\n",
    "    \n",
    "# Average of the Mean Absolute Error \n",
    "average_mae = np.mean(mae_list)\n",
    "print(\"The average of the Mean Absolute Error is\", round(average_mae, 4))"
   ]
  }
 ],
 "metadata": {
  "kernelspec": {
   "display_name": "sit720",
   "language": "python",
   "name": "python3"
  },
  "language_info": {
   "codemirror_mode": {
    "name": "ipython",
    "version": 3
   },
   "file_extension": ".py",
   "mimetype": "text/x-python",
   "name": "python",
   "nbconvert_exporter": "python",
   "pygments_lexer": "ipython3",
   "version": "3.10.9"
  },
  "orig_nbformat": 4,
  "vscode": {
   "interpreter": {
    "hash": "851ded061afa4765036d03839fe2a12ede05ff2126402e9849c3c80d33b9fb35"
   }
  }
 },
 "nbformat": 4,
 "nbformat_minor": 2
}
